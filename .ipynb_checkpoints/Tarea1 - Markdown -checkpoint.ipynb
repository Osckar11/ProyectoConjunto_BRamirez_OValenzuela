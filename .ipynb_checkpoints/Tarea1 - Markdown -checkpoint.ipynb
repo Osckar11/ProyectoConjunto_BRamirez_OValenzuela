{
 "cells": [
  {
   "cell_type": "markdown",
   "id": "rural-emperor",
   "metadata": {},
   "source": [
    "# EJERCICIOS ESTUDIANTE 1 (Bernardo Ramírez) "
   ]
  },
  {
   "cell_type": "markdown",
   "id": "specialized-marketing",
   "metadata": {},
   "source": [
    "# EJERCICIOS ESTUDIANTE 2 (Osckar Valenzuela)"
   ]
  },
  {
   "cell_type": "markdown",
   "id": "afc418d1",
   "metadata": {},
   "source": [
    "|     $i$     |  1  |  2 |  3  | 4  | 5 | 6 | 7 |\n",
    "|-------------|-----|----|-----|----|---|---|---|\n",
    "|$E_i(V)$     | 12  | 10 | 24  | 12 | - | - | - |\n",
    "|$r_i(\\Omega)$| 0.1 | 0.5| 0.2 | 0.5| - | - | - |\n",
    "|$R_i(\\Omega)$| 25  | 40 | 16  | 20 | 9 | 4 | 20|"
   ]
  },
  {
   "cell_type": "markdown",
   "id": "d1e2ba66",
   "metadata": {},
   "source": [
    "<font color = blue>Kemma y vorst (1990)</font> muestran que las opciones asiáticas con media geométrica continua se pueden valuar con el mismo enfoque de las opciones *plain vanilla*; solo se beben cambiar los parásmetros de volatilidad $\\sigma$ por $\\sigma_a$, y el costo de acarreo $b$ por $b_A$.\n",
    "De acuerdo con Kemma y Vorst, las formulas para evaluar una opcion de compra y una opcion de venta son:\n",
    "$$ c \\approx S_t e^{(b_A-r)(T-t)} \\Phi (d_1) - K_e^{-r(T-t)} \\Phi (d_2),$$\n",
    "$$ p \\approx K_e^{-r(T-t)} \\Phi (-d_2) -S_t e^{(b_A-r)(T-t)} \\Phi (-d_1).$$\n",
    "con $d_1$ y $d_2$ dados por:\n",
    "$$ d_1 = {ln(S_t/K) + (b_A + 1 / 2\\sigma_a^{2})(T-t)\n",
    "\\over \\sigma \\sqrt{T-t}},$$\n",
    "$$ d_2 = d_1 - \\sigma_a\\sqrt{T-t}.$$\n",
    "La funcion $\\phi(d)$ es la funcion de dsitribución acumulada de $E\\sim N(0,1).$ La volatilidad ajustada es igual a:\n",
    "$$\\sigma_a = {\\sigma \\over \\sqrt{3}}$$\n",
    "miestras que el costo de acarreo ajustado es:\n",
    "$$ b_A = {1 \\over 2}\\bigg(v-{\\sigma^2 \\over 6}\\bigg)$$\n"
   ]
  }
 ],
 "metadata": {
  "kernelspec": {
   "display_name": "Python 3 (ipykernel)",
   "language": "python",
   "name": "python3"
  },
  "language_info": {
   "codemirror_mode": {
    "name": "ipython",
    "version": 3
   },
   "file_extension": ".py",
   "mimetype": "text/x-python",
   "name": "python",
   "nbconvert_exporter": "python",
   "pygments_lexer": "ipython3",
   "version": "3.9.13"
  }
 },
 "nbformat": 4,
 "nbformat_minor": 5
}
