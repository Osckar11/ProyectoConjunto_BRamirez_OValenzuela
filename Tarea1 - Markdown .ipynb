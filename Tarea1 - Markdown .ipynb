{
 "cells": [
  {
   "cell_type": "markdown",
   "id": "missing-viking",
   "metadata": {},
   "source": [
    "<img style=\"float: left; margin: 30px 15px 15px 15px;\" src=\"https://pngimage.net/wp-content/uploads/2018/06/logo-iteso-png-5.png\" width=\"300\" height=\"500\" /> \n",
    "    \n",
    "    \n",
    "### <font color='navy'> Simulación de procesos financieros. \n",
    "\n",
    "**Nombres:** #############.\n",
    "\n",
    "**Fecha:** XX de octubre del 201X.\n",
    "\n",
    "**Expediente** : XXX.\n",
    "**Profesor:** Oscar David Jaramillo Zuluaga.\n",
    "    \n",
    "**Link Github**: Link con el enlace del repositorio del creador del proyecto\n",
    "\n",
    "# Tarea X: Clase X"
   ]
  },
  {
   "cell_type": "markdown",
   "id": "rural-emperor",
   "metadata": {},
   "source": [
    "# EJERCICIOS ESTUDIANTE 1 (Bernardo Ramírez) \n",
    "\n",
    "\n"
   ]
  },
  {
   "cell_type": "code",
   "execution_count": null,
   "id": "veterinary-smith",
   "metadata": {},
   "outputs": [],
   "source": []
  },
  {
   "cell_type": "code",
   "execution_count": null,
   "id": "certified-heart",
   "metadata": {},
   "outputs": [],
   "source": [
    "$$\n",
    "\\begin{align}\n",
    "\\int_{-1}^1 e^{-x^2}dx\\approx \\frac{0,5}{3}[f(-1)+f(1)+4(\\color{red}{f(-0,5)+f(0,5)}) + 2 \\color{blue}{f(0)}]\\\\\n",
    "                     \\approx \\frac{0,5}{3}[0,3678+0,3678+4(\\color{red}{0,7788+0,778}) + 2\\cdot \\color{blue}{1}]\\approx 1,4943\n",
    "\\end{align}\n",
    "$$\n",
    "\n",
    "$$\n",
    "\\text{A modo de verificación, se calculará por software, el valor del área para n= 100, un valor mucho}\\\\ \\text{más elevado al que se utilizó anteriormente. Si lo calculado previamente es correcto, se esperaría que}\\\\ \\text{sea próximo al valor presentado a continuación para ser una buena aproximación.}\n",
    "$$\n",
    "$$\n",
    "\\int_{-1}^1 e^{-x^2}dx\\approx 1,4936\n",
    "$$"
   ]
  },
  {
   "cell_type": "markdown",
   "id": "specialized-marketing",
   "metadata": {},
   "source": [
    "# EJERCICIOS ESTUDIANTE 2 (Osckar Valenzuela)"
   ]
  },
  {
   "cell_type": "markdown",
   "id": "b89d172c",
   "metadata": {},
   "source": [
    "|     $i$     |  1  |  2 |  3  | 4  | 5 | 6 | 7 |\n",
    "|-------------|-----|----|-----|----|---|---|---|\n",
    "|$E_i(V)$     | 12  | 10 | 24  | 12 | - | - | - |\n",
    "|$r_i(\\Omega)$| 0.1 | 0.5| 0.2 | 0.5| - | - | - |\n",
    "|$R_i(\\Omega)$| 25  | 40 | 16  | 20 | 9 | 4 | 20|"
   ]
  },
  {
   "cell_type": "markdown",
   "id": "8fb9ba4d",
   "metadata": {},
   "source": [
    "<font color = blue>Kemma y vorst (1990)</font> muestran que las opciones asiáticas con media geométrica continua se pueden valuar con el mismo enfoque de las opciones *plain vanilla*; solo se beben cambiar los parásmetros de volatilidad $\\sigma$ por $\\sigma_a$, y el costo de acarreo $b$ por $b_A$.\n",
    "De acuerdo con Kemma y Vorst, las formulas para evaluar una opcion de compra y una opcion de venta son:\n",
    "$$ c \\approx S_t e^{(b_A-r)(T-t)} \\Phi (d_1) - K_e^{-r(T-t)} \\Phi (d_2),$$\n",
    "$$ p \\approx K_e^{-r(T-t)} \\Phi (-d_2) -S_t e^{(b_A-r)(T-t)} \\Phi (-d_1).$$\n",
    "con $d_1$ y $d_2$ dados por:\n",
    "$$ d_1 = {ln(S_t/K) + (b_A + 1 / 2\\sigma_a^{2})(T-t)\n",
    "\\over \\sigma \\sqrt{T-t}},$$\n",
    "$$ d_2 = d_1 - \\sigma_a\\sqrt{T-t}.$$\n",
    "La funcion $\\phi(d)$ es la funcion de dsitribución acumulada de $E\\sim N(0,1).$ La volatilidad ajustada es igual a:\n",
    "$$\\sigma_a = {\\sigma \\over \\sqrt{3}}$$\n",
    "miestras que el costo de acarreo ajustado es:\n",
    "$$ b_A = {1 \\over 2}\\bigg(v-{\\sigma^2 \\over 6}\\bigg)$$\n"
   ]
  }
 ],
 "metadata": {
  "kernelspec": {
   "display_name": "Python 3 (ipykernel)",
   "language": "python",
   "name": "python3"
  },
  "language_info": {
   "codemirror_mode": {
    "name": "ipython",
    "version": 3
   },
   "file_extension": ".py",
   "mimetype": "text/x-python",
   "name": "python",
   "nbconvert_exporter": "python",
   "pygments_lexer": "ipython3",
   "version": "3.9.13"
  }
 },
 "nbformat": 4,
 "nbformat_minor": 5
}
